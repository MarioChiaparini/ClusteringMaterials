{
 "cells": [
  {
   "cell_type": "code",
   "execution_count": 1,
   "id": "1467cbfb-d1f3-42b6-bbba-e40cbbac283c",
   "metadata": {},
   "outputs": [],
   "source": [
    "import pymatgen.apps.battery.analyzer as ans\n",
    "import pymatgen.apps.battery.battery_abc as bat\n",
    "import pymatgen.apps.battery.insertion_battery as ins\n",
    "import pandas as pd\n",
    "import numpy as np\n",
    "import pymatgen\n",
    "from pymatgen.ext.matproj import MPRester\n",
    "import matplotlib.pyplot as plt\n",
    "from sklearn.cluster import KMeans\n",
    "from sklearn.metrics import silhouette_score\n",
    "from sklearn.preprocessing import StandardScaler\n",
    "from sklearn.preprocessing import MinMaxScaler\n",
    "from sklearn.preprocessing import LabelEncoder"
   ]
  },
  {
   "cell_type": "code",
   "execution_count": 2,
   "id": "8b8ba48a-2f83-4a95-9f59-1b99cd7c865d",
   "metadata": {},
   "outputs": [],
   "source": [
    "MAPI_KEY = 'P5KlMfFhCfKvXJBjNRq'\n",
    "mpr = MPRester(MAPI_KEY)"
   ]
  },
  {
   "cell_type": "code",
   "execution_count": 3,
   "id": "f1c87126-8a12-4bf4-b390-46405c4a8096",
   "metadata": {},
   "outputs": [],
   "source": [
    "def get_battery_data(self, formula_or_batt_id):\n",
    "    return mpr._make_request('/battery/%s' % formula_or_batt_id)"
   ]
  },
  {
   "cell_type": "code",
   "execution_count": 4,
   "id": "41dff310-e632-4631-907d-4eb93d8ace12",
   "metadata": {},
   "outputs": [],
   "source": [
    "MPRester.get_battery_data = get_battery_data"
   ]
  },
  {
   "cell_type": "code",
   "execution_count": 5,
   "id": "6dcd6ca6-c582-4e52-8b04-3bde1a0f0907",
   "metadata": {},
   "outputs": [],
   "source": [
    "def get_bat_dat():\n",
    "    all_bat_ids_list = (mpr._make_request('/battery/all_ids'))\n",
    "    all_battery_dataframe = pd.DataFrame([])\n",
    "    for batt_id in all_bat_ids_list:\n",
    "        if (batt_id.__contains__('_Na')):\n",
    "            \n",
    "            result_bat_id = pd.DataFrame(mpr.get_battery_data(batt_id))\n",
    "            adj_pairs = result_bat_id['adj_pairs']\n",
    "            adj_pairs_list = list(adj_pairs)\n",
    "            in_list = pd.DataFrame(list(adj_pairs_list[0]))\n",
    "            max_d_vol = pd.DataFrame(in_list['max_delta_volume'])\n",
    "            result_bat_id['Max Delta Volume'] = max_d_vol\n",
    "            all_battery_dataframe = all_battery_dataframe.append(result_bat_id)\n",
    "\n",
    "    all_battery_dataframe.rename(columns = {'battid':'Battery ID', \n",
    "                                            'reduced_cell_formula':'Reduced Cell Formula', \n",
    "                                            'average_voltage':'Average Voltage (V)', \n",
    "                                            'min_voltage':'Min Voltage (V)', \n",
    "                                            'max_voltage':'Max Voltage (V)', \n",
    "                                            'nsteps':'Number of Steps', \n",
    "                                            'min_instability':'Min Instability', \n",
    "                                            'capacity_grav':'Gravimetric Capacity (units)', \n",
    "                                            'capacity_vol':'Volumetric Capacity', \n",
    "                                            'working_ion':'Working Ion', \n",
    "                                            'min_frac':'Min Fraction', \n",
    "                                            'max_frac':'Max Fraction', \n",
    "                                            'reduced_cell_composition':'Reduced Cell Composition', \n",
    "                                            'framework':'Framework', \n",
    "                                            'adj_pairs':'Adjacent Pairs', \n",
    "                                            'spacegroup':'Spacegroup', \n",
    "                                            'energy_grav':'Gravemetric Energy (units)', \n",
    "                                            'energy_vol':'Volumetric Energy', \n",
    "                                            'numsites':'Number of Sites', \n",
    "                                            'type':'Type'}, inplace = True)\n",
    "    \n",
    "    clean_battery_df = all_battery_dataframe.set_index('Battery ID')\n",
    "    return clean_battery_df"
   ]
  },
  {
   "cell_type": "code",
   "execution_count": 6,
   "id": "d572efae-41e6-4957-9485-13939df04362",
   "metadata": {},
   "outputs": [],
   "source": [
    "def BatteryDF(Ion):\n",
    "    all_bat_ids_list = (mpr._make_request('/battery/all_ids'))\n",
    "    all_battery_dataframe = pd.DataFrame([])\n",
    "    for batt_id in all_bat_ids_list:\n",
    "        if (batt_id.__contains__(str(Ion))):\n",
    "            \n",
    "            result_bat_id = pd.DataFrame(mpr.get_battery_data(batt_id))\n",
    "            adj_pairs = result_bat_id['adj_pairs']\n",
    "            adj_pairs_list = list(adj_pairs)\n",
    "            in_list = pd.DataFrame(list(adj_pairs_list[0]))\n",
    "            max_d_vol = pd.DataFrame(in_list['max_delta_volume'])\n",
    "            result_bat_id['Max Delta Volume'] = max_d_vol\n",
    "            all_battery_dataframe = all_battery_dataframe.append(result_bat_id)\n",
    "\n",
    "    all_battery_dataframe.rename(columns = {'battid':'Battery ID', \n",
    "                                            'reduced_cell_formula':'Reduced Cell Formula', \n",
    "                                            'average_voltage':'Average Voltage (V)', \n",
    "                                            'min_voltage':'Min Voltage (V)', \n",
    "                                            'max_voltage':'Max Voltage (V)', \n",
    "                                            'nsteps':'Number of Steps', \n",
    "                                            'min_instability':'Min Instability', \n",
    "                                            'capacity_grav':'Gravimetric Capacity (units)', \n",
    "                                            'capacity_vol':'Volumetric Capacity', \n",
    "                                            'working_ion':'Working Ion', \n",
    "                                            'min_frac':'Min Fraction', \n",
    "                                            'max_frac':'Max Fraction', \n",
    "                                            'reduced_cell_composition':'Reduced Cell Composition', \n",
    "                                            'framework':'Framework', \n",
    "                                            'adj_pairs':'Adjacent Pairs', \n",
    "                                            'spacegroup':'Spacegroup', \n",
    "                                            'energy_grav':'Gravemetric Energy (units)', \n",
    "                                            'energy_vol':'Volumetric Energy', \n",
    "                                            'numsites':'Number of Sites', \n",
    "                                            'type':'Type'}, inplace = True)\n",
    "    \n",
    "    clean_battery_df = all_battery_dataframe.set_index('Battery ID')"
   ]
  },
  {
   "cell_type": "code",
   "execution_count": 7,
   "id": "29ca1a7d-e5c7-4c63-9bb8-2149b4d4aee3",
   "metadata": {},
   "outputs": [],
   "source": [
    "df = get_bat_dat()"
   ]
  },
  {
   "cell_type": "code",
   "execution_count": 8,
   "id": "c9309183-e99f-4308-a4da-510255572cb4",
   "metadata": {},
   "outputs": [
    {
     "data": {
      "text/html": [
       "<div>\n",
       "<style scoped>\n",
       "    .dataframe tbody tr th:only-of-type {\n",
       "        vertical-align: middle;\n",
       "    }\n",
       "\n",
       "    .dataframe tbody tr th {\n",
       "        vertical-align: top;\n",
       "    }\n",
       "\n",
       "    .dataframe thead th {\n",
       "        text-align: right;\n",
       "    }\n",
       "</style>\n",
       "<table border=\"1\" class=\"dataframe\">\n",
       "  <thead>\n",
       "    <tr style=\"text-align: right;\">\n",
       "      <th></th>\n",
       "      <th>Reduced Cell Formula</th>\n",
       "      <th>Average Voltage (V)</th>\n",
       "      <th>Min Voltage (V)</th>\n",
       "      <th>Max Voltage (V)</th>\n",
       "      <th>Number of Steps</th>\n",
       "      <th>Min Instability</th>\n",
       "      <th>Gravimetric Capacity (units)</th>\n",
       "      <th>Volumetric Capacity</th>\n",
       "      <th>Working Ion</th>\n",
       "      <th>Min Fraction</th>\n",
       "      <th>Max Fraction</th>\n",
       "      <th>Reduced Cell Composition</th>\n",
       "      <th>Framework</th>\n",
       "      <th>Adjacent Pairs</th>\n",
       "      <th>Spacegroup</th>\n",
       "      <th>Gravemetric Energy (units)</th>\n",
       "      <th>Volumetric Energy</th>\n",
       "      <th>Number of Sites</th>\n",
       "      <th>Type</th>\n",
       "      <th>Max Delta Volume</th>\n",
       "    </tr>\n",
       "    <tr>\n",
       "      <th>Battery ID</th>\n",
       "      <th></th>\n",
       "      <th></th>\n",
       "      <th></th>\n",
       "      <th></th>\n",
       "      <th></th>\n",
       "      <th></th>\n",
       "      <th></th>\n",
       "      <th></th>\n",
       "      <th></th>\n",
       "      <th></th>\n",
       "      <th></th>\n",
       "      <th></th>\n",
       "      <th></th>\n",
       "      <th></th>\n",
       "      <th></th>\n",
       "      <th></th>\n",
       "      <th></th>\n",
       "      <th></th>\n",
       "      <th></th>\n",
       "      <th></th>\n",
       "    </tr>\n",
       "  </thead>\n",
       "  <tbody>\n",
       "    <tr>\n",
       "      <th>mp-1001833_Na</th>\n",
       "      <td>InBi</td>\n",
       "      <td>-1.798227</td>\n",
       "      <td>-1.798227</td>\n",
       "      <td>-1.798227</td>\n",
       "      <td>1</td>\n",
       "      <td>2.871562e-02</td>\n",
       "      <td>144.959872</td>\n",
       "      <td>58.997096</td>\n",
       "      <td>Na</td>\n",
       "      <td>0.000000</td>\n",
       "      <td>0.500000</td>\n",
       "      <td>{'In': 1.0, 'Bi': 1.0}</td>\n",
       "      <td>{'reduced_cell_composition': {'In': 1.0, 'Bi':...</td>\n",
       "      <td>[{'average_voltage': -1.7982269649999998, 'max...</td>\n",
       "      <td>{'number': 216, 'hall_number': 512, 'internati...</td>\n",
       "      <td>-260.670751</td>\n",
       "      <td>-106.090168</td>\n",
       "      <td>2.0</td>\n",
       "      <td>intercalation</td>\n",
       "      <td>17.704725</td>\n",
       "    </tr>\n",
       "    <tr>\n",
       "      <th>mp-1002227_Na</th>\n",
       "      <td>RbSb</td>\n",
       "      <td>1.111756</td>\n",
       "      <td>1.111756</td>\n",
       "      <td>1.111756</td>\n",
       "      <td>1</td>\n",
       "      <td>1.367644e-02</td>\n",
       "      <td>211.695929</td>\n",
       "      <td>703.837878</td>\n",
       "      <td>Na</td>\n",
       "      <td>0.000000</td>\n",
       "      <td>0.500000</td>\n",
       "      <td>{'Rb': 1.0, 'Sb': 1.0}</td>\n",
       "      <td>{'reduced_cell_composition': {'Rb': 1.0, 'Sb':...</td>\n",
       "      <td>[{'average_voltage': 1.1117560050000004, 'max_...</td>\n",
       "      <td>{'number': 225, 'hall_number': 523, 'internati...</td>\n",
       "      <td>235.354220</td>\n",
       "      <td>782.495988</td>\n",
       "      <td>2.0</td>\n",
       "      <td>intercalation</td>\n",
       "      <td>0.153716</td>\n",
       "    </tr>\n",
       "    <tr>\n",
       "      <th>mp-1002571_Na</th>\n",
       "      <td>MnO2</td>\n",
       "      <td>2.204685</td>\n",
       "      <td>1.898535</td>\n",
       "      <td>2.816984</td>\n",
       "      <td>2</td>\n",
       "      <td>1.982991e-03</td>\n",
       "      <td>182.859366</td>\n",
       "      <td>720.849704</td>\n",
       "      <td>Na</td>\n",
       "      <td>0.076923</td>\n",
       "      <td>0.250000</td>\n",
       "      <td>{'Mn': 1.0, 'O': 2.0}</td>\n",
       "      <td>{'reduced_cell_composition': {'Mn': 1.0, 'O': ...</td>\n",
       "      <td>[{'average_voltage': 2.8169841949999985, 'max_...</td>\n",
       "      <td>{'number': 12, 'hall_number': 63, 'internation...</td>\n",
       "      <td>403.147262</td>\n",
       "      <td>1589.246373</td>\n",
       "      <td>3.0</td>\n",
       "      <td>intercalation</td>\n",
       "      <td>0.000353</td>\n",
       "    </tr>\n",
       "    <tr>\n",
       "      <th>mp-10033_Na</th>\n",
       "      <td>NbS2</td>\n",
       "      <td>1.804876</td>\n",
       "      <td>1.804876</td>\n",
       "      <td>1.804876</td>\n",
       "      <td>1</td>\n",
       "      <td>0.000000e+00</td>\n",
       "      <td>148.875491</td>\n",
       "      <td>610.926998</td>\n",
       "      <td>Na</td>\n",
       "      <td>0.000000</td>\n",
       "      <td>0.250000</td>\n",
       "      <td>{'Nb': 1.0, 'S': 2.0}</td>\n",
       "      <td>{'reduced_cell_composition': {'Nb': 1.0, 'S': ...</td>\n",
       "      <td>[{'average_voltage': 1.8048755549999982, 'max_...</td>\n",
       "      <td>{'number': 194, 'hall_number': 488, 'internati...</td>\n",
       "      <td>268.701734</td>\n",
       "      <td>1102.647205</td>\n",
       "      <td>3.0</td>\n",
       "      <td>intercalation</td>\n",
       "      <td>0.122905</td>\n",
       "    </tr>\n",
       "    <tr>\n",
       "      <th>mp-1003635_Na</th>\n",
       "      <td>MnO2</td>\n",
       "      <td>2.389452</td>\n",
       "      <td>1.513881</td>\n",
       "      <td>3.680532</td>\n",
       "      <td>4</td>\n",
       "      <td>-1.776357e-15</td>\n",
       "      <td>136.142489</td>\n",
       "      <td>559.579265</td>\n",
       "      <td>Na</td>\n",
       "      <td>0.000000</td>\n",
       "      <td>0.142857</td>\n",
       "      <td>{'Mn': 1.0, 'O': 2.0}</td>\n",
       "      <td>{'reduced_cell_composition': {'Mn': 1.0, 'O': ...</td>\n",
       "      <td>[{'average_voltage': 3.6805323150000175, 'max_...</td>\n",
       "      <td>{'number': 1, 'hall_number': 1, 'international...</td>\n",
       "      <td>325.306002</td>\n",
       "      <td>1337.088037</td>\n",
       "      <td>3.0</td>\n",
       "      <td>intercalation</td>\n",
       "      <td>0.007810</td>\n",
       "    </tr>\n",
       "  </tbody>\n",
       "</table>\n",
       "</div>"
      ],
      "text/plain": [
       "              Reduced Cell Formula  Average Voltage (V)  Min Voltage (V)  \\\n",
       "Battery ID                                                                 \n",
       "mp-1001833_Na                 InBi            -1.798227        -1.798227   \n",
       "mp-1002227_Na                 RbSb             1.111756         1.111756   \n",
       "mp-1002571_Na                 MnO2             2.204685         1.898535   \n",
       "mp-10033_Na                   NbS2             1.804876         1.804876   \n",
       "mp-1003635_Na                 MnO2             2.389452         1.513881   \n",
       "\n",
       "               Max Voltage (V)  Number of Steps  Min Instability  \\\n",
       "Battery ID                                                         \n",
       "mp-1001833_Na        -1.798227                1     2.871562e-02   \n",
       "mp-1002227_Na         1.111756                1     1.367644e-02   \n",
       "mp-1002571_Na         2.816984                2     1.982991e-03   \n",
       "mp-10033_Na           1.804876                1     0.000000e+00   \n",
       "mp-1003635_Na         3.680532                4    -1.776357e-15   \n",
       "\n",
       "               Gravimetric Capacity (units)  Volumetric Capacity Working Ion  \\\n",
       "Battery ID                                                                     \n",
       "mp-1001833_Na                    144.959872            58.997096          Na   \n",
       "mp-1002227_Na                    211.695929           703.837878          Na   \n",
       "mp-1002571_Na                    182.859366           720.849704          Na   \n",
       "mp-10033_Na                      148.875491           610.926998          Na   \n",
       "mp-1003635_Na                    136.142489           559.579265          Na   \n",
       "\n",
       "               Min Fraction  Max Fraction Reduced Cell Composition  \\\n",
       "Battery ID                                                           \n",
       "mp-1001833_Na      0.000000      0.500000   {'In': 1.0, 'Bi': 1.0}   \n",
       "mp-1002227_Na      0.000000      0.500000   {'Rb': 1.0, 'Sb': 1.0}   \n",
       "mp-1002571_Na      0.076923      0.250000    {'Mn': 1.0, 'O': 2.0}   \n",
       "mp-10033_Na        0.000000      0.250000    {'Nb': 1.0, 'S': 2.0}   \n",
       "mp-1003635_Na      0.000000      0.142857    {'Mn': 1.0, 'O': 2.0}   \n",
       "\n",
       "                                                       Framework  \\\n",
       "Battery ID                                                         \n",
       "mp-1001833_Na  {'reduced_cell_composition': {'In': 1.0, 'Bi':...   \n",
       "mp-1002227_Na  {'reduced_cell_composition': {'Rb': 1.0, 'Sb':...   \n",
       "mp-1002571_Na  {'reduced_cell_composition': {'Mn': 1.0, 'O': ...   \n",
       "mp-10033_Na    {'reduced_cell_composition': {'Nb': 1.0, 'S': ...   \n",
       "mp-1003635_Na  {'reduced_cell_composition': {'Mn': 1.0, 'O': ...   \n",
       "\n",
       "                                                  Adjacent Pairs  \\\n",
       "Battery ID                                                         \n",
       "mp-1001833_Na  [{'average_voltage': -1.7982269649999998, 'max...   \n",
       "mp-1002227_Na  [{'average_voltage': 1.1117560050000004, 'max_...   \n",
       "mp-1002571_Na  [{'average_voltage': 2.8169841949999985, 'max_...   \n",
       "mp-10033_Na    [{'average_voltage': 1.8048755549999982, 'max_...   \n",
       "mp-1003635_Na  [{'average_voltage': 3.6805323150000175, 'max_...   \n",
       "\n",
       "                                                      Spacegroup  \\\n",
       "Battery ID                                                         \n",
       "mp-1001833_Na  {'number': 216, 'hall_number': 512, 'internati...   \n",
       "mp-1002227_Na  {'number': 225, 'hall_number': 523, 'internati...   \n",
       "mp-1002571_Na  {'number': 12, 'hall_number': 63, 'internation...   \n",
       "mp-10033_Na    {'number': 194, 'hall_number': 488, 'internati...   \n",
       "mp-1003635_Na  {'number': 1, 'hall_number': 1, 'international...   \n",
       "\n",
       "               Gravemetric Energy (units)  Volumetric Energy  Number of Sites  \\\n",
       "Battery ID                                                                      \n",
       "mp-1001833_Na                 -260.670751        -106.090168              2.0   \n",
       "mp-1002227_Na                  235.354220         782.495988              2.0   \n",
       "mp-1002571_Na                  403.147262        1589.246373              3.0   \n",
       "mp-10033_Na                    268.701734        1102.647205              3.0   \n",
       "mp-1003635_Na                  325.306002        1337.088037              3.0   \n",
       "\n",
       "                        Type  Max Delta Volume  \n",
       "Battery ID                                      \n",
       "mp-1001833_Na  intercalation         17.704725  \n",
       "mp-1002227_Na  intercalation          0.153716  \n",
       "mp-1002571_Na  intercalation          0.000353  \n",
       "mp-10033_Na    intercalation          0.122905  \n",
       "mp-1003635_Na  intercalation          0.007810  "
      ]
     },
     "execution_count": 8,
     "metadata": {},
     "output_type": "execute_result"
    }
   ],
   "source": [
    "df.head()"
   ]
  },
  {
   "cell_type": "code",
   "execution_count": 93,
   "id": "663451c7-a7ab-4716-af20-d0ff98bb1116",
   "metadata": {},
   "outputs": [],
   "source": [
    "genergye = df['Gravemetric Energy (units)'].values\n",
    "gcapacity = df['Gravimetric Capacity (units)'].values\n",
    "callformula =  df['Reduced Cell Formula'].values\n",
    "voltage = df['Average Voltage (V)'].values\n",
    "index = df.index"
   ]
  },
  {
   "cell_type": "code",
   "execution_count": 94,
   "id": "f84e73f7-94aa-437f-af28-08e5270fcb61",
   "metadata": {},
   "outputs": [],
   "source": [
    "data = {'Grav. Energy':genergye, 'Grav. Capacity':gcapacity, 'Voltage':voltage, 'Formula':callformula, 'Index':index }"
   ]
  },
  {
   "cell_type": "code",
   "execution_count": 95,
   "id": "5991f680-f8f7-4e08-8b32-d153517a329f",
   "metadata": {},
   "outputs": [],
   "source": [
    "new_df = pd.DataFrame(data)"
   ]
  },
  {
   "cell_type": "code",
   "execution_count": 96,
   "id": "d860032c-b1ff-4243-a9dc-4ea79eb620bd",
   "metadata": {},
   "outputs": [
    {
     "data": {
      "text/html": [
       "<div>\n",
       "<style scoped>\n",
       "    .dataframe tbody tr th:only-of-type {\n",
       "        vertical-align: middle;\n",
       "    }\n",
       "\n",
       "    .dataframe tbody tr th {\n",
       "        vertical-align: top;\n",
       "    }\n",
       "\n",
       "    .dataframe thead th {\n",
       "        text-align: right;\n",
       "    }\n",
       "</style>\n",
       "<table border=\"1\" class=\"dataframe\">\n",
       "  <thead>\n",
       "    <tr style=\"text-align: right;\">\n",
       "      <th></th>\n",
       "      <th>Grav. Energy</th>\n",
       "      <th>Grav. Capacity</th>\n",
       "      <th>Voltage</th>\n",
       "      <th>Formula</th>\n",
       "      <th>Index</th>\n",
       "    </tr>\n",
       "  </thead>\n",
       "  <tbody>\n",
       "    <tr>\n",
       "      <th>0</th>\n",
       "      <td>-260.670751</td>\n",
       "      <td>144.959872</td>\n",
       "      <td>-1.798227</td>\n",
       "      <td>InBi</td>\n",
       "      <td>mp-1001833_Na</td>\n",
       "    </tr>\n",
       "    <tr>\n",
       "      <th>1</th>\n",
       "      <td>235.354220</td>\n",
       "      <td>211.695929</td>\n",
       "      <td>1.111756</td>\n",
       "      <td>RbSb</td>\n",
       "      <td>mp-1002227_Na</td>\n",
       "    </tr>\n",
       "    <tr>\n",
       "      <th>2</th>\n",
       "      <td>403.147262</td>\n",
       "      <td>182.859366</td>\n",
       "      <td>2.204685</td>\n",
       "      <td>MnO2</td>\n",
       "      <td>mp-1002571_Na</td>\n",
       "    </tr>\n",
       "    <tr>\n",
       "      <th>3</th>\n",
       "      <td>268.701734</td>\n",
       "      <td>148.875491</td>\n",
       "      <td>1.804876</td>\n",
       "      <td>NbS2</td>\n",
       "      <td>mp-10033_Na</td>\n",
       "    </tr>\n",
       "    <tr>\n",
       "      <th>4</th>\n",
       "      <td>325.306002</td>\n",
       "      <td>136.142489</td>\n",
       "      <td>2.389452</td>\n",
       "      <td>MnO2</td>\n",
       "      <td>mp-1003635_Na</td>\n",
       "    </tr>\n",
       "  </tbody>\n",
       "</table>\n",
       "</div>"
      ],
      "text/plain": [
       "   Grav. Energy  Grav. Capacity   Voltage Formula          Index\n",
       "0   -260.670751      144.959872 -1.798227    InBi  mp-1001833_Na\n",
       "1    235.354220      211.695929  1.111756    RbSb  mp-1002227_Na\n",
       "2    403.147262      182.859366  2.204685    MnO2  mp-1002571_Na\n",
       "3    268.701734      148.875491  1.804876    NbS2    mp-10033_Na\n",
       "4    325.306002      136.142489  2.389452    MnO2  mp-1003635_Na"
      ]
     },
     "execution_count": 96,
     "metadata": {},
     "output_type": "execute_result"
    }
   ],
   "source": [
    "new_df.head()"
   ]
  },
  {
   "cell_type": "code",
   "execution_count": 97,
   "id": "3b96b91b-816e-4e73-81db-99a4403ad81f",
   "metadata": {},
   "outputs": [
    {
     "data": {
      "text/plain": [
       "328"
      ]
     },
     "execution_count": 97,
     "metadata": {},
     "output_type": "execute_result"
    }
   ],
   "source": [
    "len(new_df)"
   ]
  },
  {
   "cell_type": "code",
   "execution_count": 98,
   "id": "d98173ac-b416-4c8b-a1a2-74af12c982d9",
   "metadata": {},
   "outputs": [
    {
     "name": "stdout",
     "output_type": "stream",
     "text": [
      "<class 'pandas.core.frame.DataFrame'>\n",
      "RangeIndex: 328 entries, 0 to 327\n",
      "Data columns (total 5 columns):\n",
      " #   Column          Non-Null Count  Dtype  \n",
      "---  ------          --------------  -----  \n",
      " 0   Grav. Energy    328 non-null    float64\n",
      " 1   Grav. Capacity  328 non-null    float64\n",
      " 2   Voltage         328 non-null    float64\n",
      " 3   Formula         328 non-null    object \n",
      " 4   Index           328 non-null    object \n",
      "dtypes: float64(3), object(2)\n",
      "memory usage: 12.9+ KB\n"
     ]
    }
   ],
   "source": [
    "new_df.info()"
   ]
  },
  {
   "cell_type": "code",
   "execution_count": 99,
   "id": "f3395811-404c-4cb9-bc20-6f3128acb769",
   "metadata": {},
   "outputs": [
    {
     "data": {
      "text/plain": [
       "Grav. Energy      0\n",
       "Grav. Capacity    0\n",
       "Voltage           0\n",
       "Formula           0\n",
       "Index             0\n",
       "dtype: int64"
      ]
     },
     "execution_count": 99,
     "metadata": {},
     "output_type": "execute_result"
    }
   ],
   "source": [
    "new_df.isnull().sum()"
   ]
  },
  {
   "cell_type": "code",
   "execution_count": 100,
   "id": "8d8a095c-9c3e-4abb-96fb-91d4ee6b082d",
   "metadata": {},
   "outputs": [],
   "source": [
    "not_unique = len(new_df['Formula'])- len(new_df['Formula'].unique())"
   ]
  },
  {
   "cell_type": "code",
   "execution_count": 101,
   "id": "4b84a3c0-f31e-45d0-af29-0e649104a1ab",
   "metadata": {},
   "outputs": [
    {
     "data": {
      "text/plain": [
       "66"
      ]
     },
     "execution_count": 101,
     "metadata": {},
     "output_type": "execute_result"
    }
   ],
   "source": [
    "not_unique"
   ]
  },
  {
   "cell_type": "code",
   "execution_count": 102,
   "id": "e3cdd91b-2fd5-4937-ad07-e902adb8f3e5",
   "metadata": {},
   "outputs": [],
   "source": [
    "x = new_df.iloc[:,0:2]\n",
    "y = new_df['Formula']"
   ]
  },
  {
   "cell_type": "code",
   "execution_count": 103,
   "id": "5625e27d-cf70-476f-b122-b82261b9541b",
   "metadata": {},
   "outputs": [
    {
     "data": {
      "text/html": [
       "<div>\n",
       "<style scoped>\n",
       "    .dataframe tbody tr th:only-of-type {\n",
       "        vertical-align: middle;\n",
       "    }\n",
       "\n",
       "    .dataframe tbody tr th {\n",
       "        vertical-align: top;\n",
       "    }\n",
       "\n",
       "    .dataframe thead th {\n",
       "        text-align: right;\n",
       "    }\n",
       "</style>\n",
       "<table border=\"1\" class=\"dataframe\">\n",
       "  <thead>\n",
       "    <tr style=\"text-align: right;\">\n",
       "      <th></th>\n",
       "      <th>Grav. Energy</th>\n",
       "      <th>Grav. Capacity</th>\n",
       "    </tr>\n",
       "  </thead>\n",
       "  <tbody>\n",
       "    <tr>\n",
       "      <th>0</th>\n",
       "      <td>-260.670751</td>\n",
       "      <td>144.959872</td>\n",
       "    </tr>\n",
       "    <tr>\n",
       "      <th>1</th>\n",
       "      <td>235.354220</td>\n",
       "      <td>211.695929</td>\n",
       "    </tr>\n",
       "    <tr>\n",
       "      <th>2</th>\n",
       "      <td>403.147262</td>\n",
       "      <td>182.859366</td>\n",
       "    </tr>\n",
       "    <tr>\n",
       "      <th>3</th>\n",
       "      <td>268.701734</td>\n",
       "      <td>148.875491</td>\n",
       "    </tr>\n",
       "    <tr>\n",
       "      <th>4</th>\n",
       "      <td>325.306002</td>\n",
       "      <td>136.142489</td>\n",
       "    </tr>\n",
       "    <tr>\n",
       "      <th>...</th>\n",
       "      <td>...</td>\n",
       "      <td>...</td>\n",
       "    </tr>\n",
       "    <tr>\n",
       "      <th>323</th>\n",
       "      <td>460.655352</td>\n",
       "      <td>134.899518</td>\n",
       "    </tr>\n",
       "    <tr>\n",
       "      <th>324</th>\n",
       "      <td>269.593176</td>\n",
       "      <td>74.662307</td>\n",
       "    </tr>\n",
       "    <tr>\n",
       "      <th>325</th>\n",
       "      <td>517.770878</td>\n",
       "      <td>131.139280</td>\n",
       "    </tr>\n",
       "    <tr>\n",
       "      <th>326</th>\n",
       "      <td>387.912156</td>\n",
       "      <td>177.577257</td>\n",
       "    </tr>\n",
       "    <tr>\n",
       "      <th>327</th>\n",
       "      <td>148.667706</td>\n",
       "      <td>53.077688</td>\n",
       "    </tr>\n",
       "  </tbody>\n",
       "</table>\n",
       "<p>328 rows × 2 columns</p>\n",
       "</div>"
      ],
      "text/plain": [
       "     Grav. Energy  Grav. Capacity\n",
       "0     -260.670751      144.959872\n",
       "1      235.354220      211.695929\n",
       "2      403.147262      182.859366\n",
       "3      268.701734      148.875491\n",
       "4      325.306002      136.142489\n",
       "..            ...             ...\n",
       "323    460.655352      134.899518\n",
       "324    269.593176       74.662307\n",
       "325    517.770878      131.139280\n",
       "326    387.912156      177.577257\n",
       "327    148.667706       53.077688\n",
       "\n",
       "[328 rows x 2 columns]"
      ]
     },
     "execution_count": 103,
     "metadata": {},
     "output_type": "execute_result"
    }
   ],
   "source": [
    "x"
   ]
  },
  {
   "cell_type": "code",
   "execution_count": 104,
   "id": "464bb12c-cb69-4855-9727-7cff24f4fce3",
   "metadata": {},
   "outputs": [
    {
     "data": {
      "text/plain": [
       "LabelEncoder()"
      ]
     },
     "execution_count": 104,
     "metadata": {},
     "output_type": "execute_result"
    }
   ],
   "source": [
    "label = LabelEncoder()\n",
    "label.fit(y)"
   ]
  },
  {
   "cell_type": "code",
   "execution_count": 105,
   "id": "fdcd16d6-ec6b-44ea-9da3-042cab7666d8",
   "metadata": {},
   "outputs": [],
   "source": [
    "y = label.transform(y)"
   ]
  },
  {
   "cell_type": "code",
   "execution_count": 106,
   "id": "14bd6806-a82f-4cd6-959e-1f829dbaf3b2",
   "metadata": {},
   "outputs": [
    {
     "data": {
      "text/plain": [
       "104"
      ]
     },
     "execution_count": 106,
     "metadata": {},
     "output_type": "execute_result"
    }
   ],
   "source": [
    "y[0]"
   ]
  },
  {
   "cell_type": "code",
   "execution_count": 107,
   "id": "0bc73510-bec0-417c-87e0-751a9b2b9274",
   "metadata": {},
   "outputs": [],
   "source": [
    "minmax = MinMaxScaler()\n",
    "x = minmax.fit_transform(x)"
   ]
  },
  {
   "cell_type": "code",
   "execution_count": 108,
   "id": "2b7739fb-7b1c-432c-ac69-2021cae1e0fc",
   "metadata": {},
   "outputs": [],
   "source": [
    "columns = ['Grav. Energy', 'Grav. Capacity']"
   ]
  },
  {
   "cell_type": "code",
   "execution_count": 109,
   "id": "f9b00454-30ab-4054-be56-9abd64d83668",
   "metadata": {},
   "outputs": [
    {
     "data": {
      "text/plain": [
       "['Grav. Energy', 'Grav. Capacity']"
      ]
     },
     "execution_count": 109,
     "metadata": {},
     "output_type": "execute_result"
    }
   ],
   "source": [
    "columns"
   ]
  },
  {
   "cell_type": "code",
   "execution_count": 110,
   "id": "bb2cfc49-c68c-4276-a025-2bcf5634da20",
   "metadata": {},
   "outputs": [],
   "source": [
    "minmax = MinMaxScaler()\n",
    "x = minmax.fit_transform(x)"
   ]
  },
  {
   "cell_type": "code",
   "execution_count": 111,
   "id": "236952bb-62e4-419b-b2b6-766301dd8f13",
   "metadata": {},
   "outputs": [],
   "source": [
    "x = pd.DataFrame(x, columns=[columns])"
   ]
  },
  {
   "cell_type": "code",
   "execution_count": 112,
   "id": "ce269809-43b9-4671-81e3-0c749040dafd",
   "metadata": {},
   "outputs": [
    {
     "data": {
      "text/html": [
       "<div>\n",
       "<style scoped>\n",
       "    .dataframe tbody tr th:only-of-type {\n",
       "        vertical-align: middle;\n",
       "    }\n",
       "\n",
       "    .dataframe tbody tr th {\n",
       "        vertical-align: top;\n",
       "    }\n",
       "\n",
       "    .dataframe thead tr th {\n",
       "        text-align: left;\n",
       "    }\n",
       "</style>\n",
       "<table border=\"1\" class=\"dataframe\">\n",
       "  <thead>\n",
       "    <tr>\n",
       "      <th></th>\n",
       "      <th>Grav. Energy</th>\n",
       "      <th>Grav. Capacity</th>\n",
       "    </tr>\n",
       "  </thead>\n",
       "  <tbody>\n",
       "    <tr>\n",
       "      <th>0</th>\n",
       "      <td>0.169951</td>\n",
       "      <td>0.215029</td>\n",
       "    </tr>\n",
       "    <tr>\n",
       "      <th>1</th>\n",
       "      <td>0.462655</td>\n",
       "      <td>0.319961</td>\n",
       "    </tr>\n",
       "    <tr>\n",
       "      <th>2</th>\n",
       "      <td>0.561670</td>\n",
       "      <td>0.274620</td>\n",
       "    </tr>\n",
       "    <tr>\n",
       "      <th>3</th>\n",
       "      <td>0.482333</td>\n",
       "      <td>0.221185</td>\n",
       "    </tr>\n",
       "    <tr>\n",
       "      <th>4</th>\n",
       "      <td>0.515736</td>\n",
       "      <td>0.201164</td>\n",
       "    </tr>\n",
       "  </tbody>\n",
       "</table>\n",
       "</div>"
      ],
      "text/plain": [
       "  Grav. Energy Grav. Capacity\n",
       "0     0.169951       0.215029\n",
       "1     0.462655       0.319961\n",
       "2     0.561670       0.274620\n",
       "3     0.482333       0.221185\n",
       "4     0.515736       0.201164"
      ]
     },
     "execution_count": 112,
     "metadata": {},
     "output_type": "execute_result"
    }
   ],
   "source": [
    "x.head()"
   ]
  },
  {
   "cell_type": "code",
   "execution_count": 113,
   "id": "6f343b36-9666-4dad-a763-e80d0d161703",
   "metadata": {},
   "outputs": [],
   "source": [
    "import matplotlib.pyplot as plt"
   ]
  },
  {
   "cell_type": "code",
   "execution_count": 114,
   "id": "028d67e5-29dc-45f4-a56d-ce98afb8d7ee",
   "metadata": {},
   "outputs": [
    {
     "data": {
      "text/plain": [
       "<matplotlib.collections.PathCollection at 0x7f8215586d50>"
      ]
     },
     "execution_count": 114,
     "metadata": {},
     "output_type": "execute_result"
    },
    {
     "data": {
      "image/png": "[encoded data removed]",
      "text/plain": [
       "<Figure size 640x480 with 1 Axes>"
      ]
     },
     "metadata": {},
     "output_type": "display_data"
    }
   ],
   "source": [
    "plt.scatter(x['Grav. Capacity'], x['Grav. Energy'])"
   ]
  },
  {
   "cell_type": "code",
   "execution_count": 115,
   "id": "8c62dde6-4f3b-4ec6-b46c-8466be002eaf",
   "metadata": {},
   "outputs": [
    {
     "name": "stderr",
     "output_type": "stream",
     "text": [
      "/home/marioneto/anaconda3/lib/python3.7/site-packages/sklearn/utils/validation.py:1692: FutureWarning: Feature names only support names that are all strings. Got feature names with dtypes: ['tuple']. An error will be raised in 1.2.\n",
      "  FutureWarning,\n",
      "/home/marioneto/anaconda3/lib/python3.7/site-packages/sklearn/utils/validation.py:1692: FutureWarning: Feature names only support names that are all strings. Got feature names with dtypes: ['tuple']. An error will be raised in 1.2.\n",
      "  FutureWarning,\n",
      "/home/marioneto/anaconda3/lib/python3.7/site-packages/sklearn/utils/validation.py:1692: FutureWarning: Feature names only support names that are all strings. Got feature names with dtypes: ['tuple']. An error will be raised in 1.2.\n",
      "  FutureWarning,\n",
      "/home/marioneto/anaconda3/lib/python3.7/site-packages/sklearn/utils/validation.py:1692: FutureWarning: Feature names only support names that are all strings. Got feature names with dtypes: ['tuple']. An error will be raised in 1.2.\n",
      "  FutureWarning,\n",
      "/home/marioneto/anaconda3/lib/python3.7/site-packages/sklearn/utils/validation.py:1692: FutureWarning: Feature names only support names that are all strings. Got feature names with dtypes: ['tuple']. An error will be raised in 1.2.\n",
      "  FutureWarning,\n",
      "/home/marioneto/anaconda3/lib/python3.7/site-packages/sklearn/utils/validation.py:1692: FutureWarning: Feature names only support names that are all strings. Got feature names with dtypes: ['tuple']. An error will be raised in 1.2.\n",
      "  FutureWarning,\n",
      "/home/marioneto/anaconda3/lib/python3.7/site-packages/sklearn/utils/validation.py:1692: FutureWarning: Feature names only support names that are all strings. Got feature names with dtypes: ['tuple']. An error will be raised in 1.2.\n",
      "  FutureWarning,\n",
      "/home/marioneto/anaconda3/lib/python3.7/site-packages/sklearn/utils/validation.py:1692: FutureWarning: Feature names only support names that are all strings. Got feature names with dtypes: ['tuple']. An error will be raised in 1.2.\n",
      "  FutureWarning,\n",
      "/home/marioneto/anaconda3/lib/python3.7/site-packages/sklearn/utils/validation.py:1692: FutureWarning: Feature names only support names that are all strings. Got feature names with dtypes: ['tuple']. An error will be raised in 1.2.\n",
      "  FutureWarning,\n",
      "/home/marioneto/anaconda3/lib/python3.7/site-packages/sklearn/utils/validation.py:1692: FutureWarning: Feature names only support names that are all strings. Got feature names with dtypes: ['tuple']. An error will be raised in 1.2.\n",
      "  FutureWarning,\n"
     ]
    },
    {
     "data": {
      "image/png": "[encoded data removed]",
      "text/plain": [
       "<Figure size 640x480 with 1 Axes>"
      ]
     },
     "metadata": {},
     "output_type": "display_data"
    }
   ],
   "source": [
    "#Elbow Method\n",
    "cost = []\n",
    "for i in range(1, 11):\n",
    "    KM = KMeans(n_clusters = i, max_iter = 500)\n",
    "    KM.fit(x['Grav. Energy'])\n",
    "    cost.append(KM.inertia_)    \n",
    "plt.plot(range(1, 11), cost, color ='g', linewidth ='3')\n",
    "plt.xlabel(\"Value of K\")\n",
    "plt.ylabel(\"Squared Error (Cost)\")\n",
    "plt.show() # clear the plot"
   ]
  },
  {
   "cell_type": "code",
   "execution_count": 116,
   "id": "98d2b078-104d-4704-b0ad-ae99646e1e87",
   "metadata": {},
   "outputs": [
    {
     "name": "stderr",
     "output_type": "stream",
     "text": [
      "/home/marioneto/anaconda3/lib/python3.7/site-packages/sklearn/utils/validation.py:1692: FutureWarning: Feature names only support names that are all strings. Got feature names with dtypes: ['tuple']. An error will be raised in 1.2.\n",
      "  FutureWarning,\n"
     ]
    }
   ],
   "source": [
    "Kmean= KMeans(n_clusters=3, init='k-means++', random_state=42)\n",
    "y = Kmean.fit_predict(x)"
   ]
  },
  {
   "cell_type": "code",
   "execution_count": 117,
   "id": "8dcea3ef-187e-464d-b692-244ac3f44c76",
   "metadata": {},
   "outputs": [
    {
     "name": "stdout",
     "output_type": "stream",
     "text": [
      "0.5163019920599531\n"
     ]
    }
   ],
   "source": [
    "from sklearn.metrics import silhouette_score \n",
    "score = silhouette_score(x,y)\n",
    "print(score)"
   ]
  },
  {
   "cell_type": "code",
   "execution_count": 118,
   "id": "34d82513-57cb-4696-aa67-236d07696c96",
   "metadata": {},
   "outputs": [],
   "source": [
    "#plt.scatter(y, x['Grav. Capacity'], c=Kmean.labels_, cmap='rainbow')\n",
    "new_df['Cluster'] = y"
   ]
  },
  {
   "cell_type": "code",
   "execution_count": 119,
   "id": "c1167de9-57e7-454d-8682-acf525d32ff1",
   "metadata": {},
   "outputs": [],
   "source": [
    "unique_labels = new_df[\"Cluster\"].unique()"
   ]
  },
  {
   "cell_type": "code",
   "execution_count": 120,
   "id": "a90c0094-226d-46d7-be23-c36754eea981",
   "metadata": {},
   "outputs": [
    {
     "data": {
      "text/plain": [
       "array([1, 0, 2], dtype=int32)"
      ]
     },
     "execution_count": 120,
     "metadata": {},
     "output_type": "execute_result"
    }
   ],
   "source": [
    "unique_labels"
   ]
  },
  {
   "cell_type": "code",
   "execution_count": 121,
   "id": "6da0ac77-9a38-4703-ad8a-9e7cc7ebe589",
   "metadata": {},
   "outputs": [],
   "source": [
    "import seaborn as sns"
   ]
  },
  {
   "cell_type": "code",
   "execution_count": 122,
   "id": "f9c34245-52e3-4931-bcad-6c88a5cfd7bc",
   "metadata": {},
   "outputs": [
    {
     "data": {
      "text/plain": [
       "array([1, 0, 2], dtype=int32)"
      ]
     },
     "execution_count": 122,
     "metadata": {},
     "output_type": "execute_result"
    }
   ],
   "source": [
    "unique_labels"
   ]
  },
  {
   "cell_type": "code",
   "execution_count": 123,
   "id": "94adcd57-caf4-4f92-9a04-bcc3c4d0a6cb",
   "metadata": {},
   "outputs": [],
   "source": [
    "cl0 =  new_df[new_df.Cluster==unique_labels[1]]\n",
    "cl1 = new_df[new_df.Cluster==unique_labels[0]]\n",
    "#cl2 = new_df[new_df.Cluster==unique_labels[2]]\n",
    "#cl3 = new_df[new_df.Cluster==unique_labels[4]]\n",
    "#cl4 = new_df[new_df.Cluster==unique_labels[0]]"
   ]
  },
  {
   "cell_type": "code",
   "execution_count": 124,
   "id": "cb44b408-bbbe-4950-be92-e5bb9090dfbe",
   "metadata": {},
   "outputs": [],
   "source": [
    "cl0.to_csv('HighestCluserMaterial.csv')"
   ]
  },
  {
   "cell_type": "code",
   "execution_count": 125,
   "id": "2bc2ef6e-6589-453b-a71c-c679820aa93f",
   "metadata": {},
   "outputs": [],
   "source": [
    "#cl0['Grav. Energy'].idxmax()\n",
    "max_row = cl0.loc[cl0['Grav. Energy'].idxmax()]"
   ]
  },
  {
   "cell_type": "code",
   "execution_count": 126,
   "id": "ea8155ad-6706-4de2-bc58-5d339923aaac",
   "metadata": {},
   "outputs": [
    {
     "data": {
      "text/plain": [
       "Grav. Energy      1145.953961\n",
       "Grav. Capacity     392.202245\n",
       "Voltage              2.921844\n",
       "Formula                  NiO2\n",
       "Index             mp-25599_Na\n",
       "Cluster                     0\n",
       "Name: 169, dtype: object"
      ]
     },
     "execution_count": 126,
     "metadata": {},
     "output_type": "execute_result"
    }
   ],
   "source": [
    "max_row"
   ]
  },
  {
   "cell_type": "code",
   "execution_count": 127,
   "id": "2ab83b96-d63f-485c-85c2-a248699e54ce",
   "metadata": {},
   "outputs": [],
   "source": [
    "from matplotlib.colors import ListedColormap"
   ]
  },
  {
   "cell_type": "code",
   "execution_count": 128,
   "id": "8ac91406-691e-4631-bffa-6e10e8251511",
   "metadata": {},
   "outputs": [
    {
     "data": {
      "image/png": "[encoded data removed]",
      "text/plain": [
       "<Figure size 800x600 with 1 Axes>"
      ]
     },
     "metadata": {},
     "output_type": "display_data"
    }
   ],
   "source": [
    "customcmap = ListedColormap([\"crimson\", \"mediumblue\", \"darkmagenta\"])\n",
    "fig, ax = plt.subplots(figsize=(8, 6))\n",
    "plt.scatter(x=new_df['Grav. Capacity'], y=new_df['Grav. Energy'], s=150,\n",
    "            c=new_df['Cluster'].astype('category'), \n",
    "            cmap = customcmap)\n",
    "ax.set_xlabel(r'Capacity', fontsize=14)\n",
    "ax.set_ylabel(r'Energy', fontsize=14)\n",
    "plt.xticks(fontsize=12)\n",
    "plt.yticks(fontsize=12)\n",
    "plt.show()"
   ]
  }
 ],
 "metadata": {
  "kernelspec": {
   "display_name": "Python 3 (ipykernel)",
   "language": "python",
   "name": "python3"
  },
  "language_info": {
   "codemirror_mode": {
    "name": "ipython",
    "version": 3
   },
   "file_extension": ".py",
   "mimetype": "text/x-python",
   "name": "python",
   "nbconvert_exporter": "python",
   "pygments_lexer": "ipython3",
   "version": "3.7.15"
  }
 },
 "nbformat": 4,
 "nbformat_minor": 5
}
