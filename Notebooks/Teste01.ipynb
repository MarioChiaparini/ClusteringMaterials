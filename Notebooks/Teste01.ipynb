{
 "cells": [
  {
   "cell_type": "code",
   "execution_count": 106,
   "id": "d3946dfd-5649-4f15-b6e5-f294624b710d",
   "metadata": {},
   "outputs": [],
   "source": [
    "import pymatgen\n",
    "from pymatgen.ext.matproj import MPRester\n",
    "import pandas as pd"
   ]
  },
  {
   "cell_type": "code",
   "execution_count": 107,
   "id": "2f2e5394-ad32-462e-8bad-34438f232e18",
   "metadata": {},
   "outputs": [],
   "source": [
    "API = MPRester(api_key=\"P5KlMfFhCfKvXJBjNRq\")\n",
    "def Battery_Data(formula_data):\n",
    "    return API._make_request(\"/battery/%s\" % formula_data)"
   ]
  },
  {
   "cell_type": "code",
   "execution_count": 108,
   "id": "25133a9f-aa5c-4309-b908-d63f10b3d742",
   "metadata": {},
   "outputs": [],
   "source": [
    "all_ids = Battery_Data(\"all_ids\")\n",
    "listas = []\n",
    "i = 0\n",
    "for ids in all_ids:\n",
    "    #print(f\"{ids}\")\n",
    "    #results_battery = pd.DataFrame(ids)\n",
    "    if (ids.__contains__('_Na')):\n",
    "        i += 1\n",
    "        listas.append(ids)\n",
    "    #for j in range(len(listas)):\n",
    "        #print(listas[j])"
   ]
  },
  {
   "cell_type": "code",
   "execution_count": 111,
   "id": "b9f60671-284b-4e20-a408-18c356cec465",
   "metadata": {},
   "outputs": [],
   "source": [
    "criteria={'chemsys': {'$in': ['mp-1001833_Na']}}\n",
    "props = ['material_id', 'formula', 'band_gap', 'energy_vol', 'min_voltage']"
   ]
  },
  {
   "cell_type": "code",
   "execution_count": 112,
   "id": "b4e7b976-6eae-4e1d-86eb-f386a6558099",
   "metadata": {},
   "outputs": [],
   "source": [
    "with API as data:\n",
    "    battery_material = data.query(criteria=criteria, properties=props)\n",
    "    #print(f\"Battery: {battery_material['voltage']}\""
   ]
  },
  {
   "cell_type": "code",
   "execution_count": 100,
   "id": "cd9de305-ad14-424c-b96d-bc282e3b4204",
   "metadata": {},
   "outputs": [
    {
     "name": "stdout",
     "output_type": "stream",
     "text": [
      "No Battery :(\n"
     ]
    }
   ],
   "source": [
    "if not battery_material:\n",
    "    print(\"No Battery :(\")\n",
    "else:\n",
    "    for materials in battery_material:\n",
    "        print(f\"Battery Material: {materials['formula']}\")"
   ]
  },
  {
   "cell_type": "code",
   "execution_count": null,
   "id": "e5a95d96-33c5-4413-b3b4-82c2e7b416fe",
   "metadata": {},
   "outputs": [],
   "source": []
  }
 ],
 "metadata": {
  "kernelspec": {
   "display_name": "Python 3 (ipykernel)",
   "language": "python",
   "name": "python3"
  },
  "language_info": {
   "codemirror_mode": {
    "name": "ipython",
    "version": 3
   },
   "file_extension": ".py",
   "mimetype": "text/x-python",
   "name": "python",
   "nbconvert_exporter": "python",
   "pygments_lexer": "ipython3",
   "version": "3.7.15"
  }
 },
 "nbformat": 4,
 "nbformat_minor": 5
}
