{
 "cells": [
  {
   "cell_type": "code",
   "execution_count": 37,
   "id": "5dffc63b-67c8-49ba-98fd-3337f5f086a7",
   "metadata": {},
   "outputs": [],
   "source": [
    "import pymatgen\n",
    "from pymatgen.ext.matproj import MPRester\n",
    "from pymatgen.electronic_structure.bandstructure import BandStructure\n",
    "from pymatgen.electronic_structure.bandstructure import Spin\n",
    "from mpl_toolkits.mplot3d import Axes3D\n",
    "import pandas as pd"
   ]
  },
  {
   "cell_type": "code",
   "execution_count": 38,
   "id": "722cf86d-632b-4b4e-b751-dd9c9b5f335b",
   "metadata": {},
   "outputs": [],
   "source": [
    "data = pd.read_csv('HighestCluserMaterial.csv')"
   ]
  },
  {
   "cell_type": "code",
   "execution_count": 39,
   "id": "7ef7dadf-b898-4f52-9e24-1db462e68a62",
   "metadata": {},
   "outputs": [],
   "source": [
    "Df = pd.DataFrame(data)"
   ]
  },
  {
   "cell_type": "code",
   "execution_count": 40,
   "id": "da922c18-5732-48e5-b7e7-0161b5a3008d",
   "metadata": {},
   "outputs": [
    {
     "data": {
      "text/html": [
       "<div>\n",
       "<style scoped>\n",
       "    .dataframe tbody tr th:only-of-type {\n",
       "        vertical-align: middle;\n",
       "    }\n",
       "\n",
       "    .dataframe tbody tr th {\n",
       "        vertical-align: top;\n",
       "    }\n",
       "\n",
       "    .dataframe thead th {\n",
       "        text-align: right;\n",
       "    }\n",
       "</style>\n",
       "<table border=\"1\" class=\"dataframe\">\n",
       "  <thead>\n",
       "    <tr style=\"text-align: right;\">\n",
       "      <th></th>\n",
       "      <th>Unnamed: 0</th>\n",
       "      <th>Grav. Energy</th>\n",
       "      <th>Grav. Capacity</th>\n",
       "      <th>Voltage</th>\n",
       "      <th>Formula</th>\n",
       "      <th>Index</th>\n",
       "      <th>Cluster</th>\n",
       "    </tr>\n",
       "  </thead>\n",
       "  <tbody>\n",
       "    <tr>\n",
       "      <th>0</th>\n",
       "      <td>2</td>\n",
       "      <td>403.147262</td>\n",
       "      <td>182.859366</td>\n",
       "      <td>2.204685</td>\n",
       "      <td>MnO2</td>\n",
       "      <td>mp-1002571_Na</td>\n",
       "      <td>0</td>\n",
       "    </tr>\n",
       "    <tr>\n",
       "      <th>1</th>\n",
       "      <td>7</td>\n",
       "      <td>846.295162</td>\n",
       "      <td>192.224487</td>\n",
       "      <td>4.402640</td>\n",
       "      <td>CoP2O7</td>\n",
       "      <td>mp-1011834_Na</td>\n",
       "      <td>0</td>\n",
       "    </tr>\n",
       "    <tr>\n",
       "      <th>2</th>\n",
       "      <td>11</td>\n",
       "      <td>295.022830</td>\n",
       "      <td>194.127444</td>\n",
       "      <td>1.519738</td>\n",
       "      <td>VS2</td>\n",
       "      <td>mp-1013526_Na</td>\n",
       "      <td>0</td>\n",
       "    </tr>\n",
       "    <tr>\n",
       "      <th>3</th>\n",
       "      <td>15</td>\n",
       "      <td>507.494607</td>\n",
       "      <td>260.210403</td>\n",
       "      <td>1.950324</td>\n",
       "      <td>CrN2</td>\n",
       "      <td>mp-1014373_Na</td>\n",
       "      <td>0</td>\n",
       "    </tr>\n",
       "    <tr>\n",
       "      <th>4</th>\n",
       "      <td>16</td>\n",
       "      <td>602.167622</td>\n",
       "      <td>243.812488</td>\n",
       "      <td>2.469798</td>\n",
       "      <td>MnO2</td>\n",
       "      <td>mp-1016152_Na</td>\n",
       "      <td>0</td>\n",
       "    </tr>\n",
       "  </tbody>\n",
       "</table>\n",
       "</div>"
      ],
      "text/plain": [
       "   Unnamed: 0  Grav. Energy  Grav. Capacity   Voltage Formula          Index  \\\n",
       "0           2    403.147262      182.859366  2.204685    MnO2  mp-1002571_Na   \n",
       "1           7    846.295162      192.224487  4.402640  CoP2O7  mp-1011834_Na   \n",
       "2          11    295.022830      194.127444  1.519738     VS2  mp-1013526_Na   \n",
       "3          15    507.494607      260.210403  1.950324    CrN2  mp-1014373_Na   \n",
       "4          16    602.167622      243.812488  2.469798    MnO2  mp-1016152_Na   \n",
       "\n",
       "   Cluster  \n",
       "0        0  \n",
       "1        0  \n",
       "2        0  \n",
       "3        0  \n",
       "4        0  "
      ]
     },
     "execution_count": 40,
     "metadata": {},
     "output_type": "execute_result"
    }
   ],
   "source": [
    "Df.head()"
   ]
  },
  {
   "cell_type": "code",
   "execution_count": 41,
   "id": "dcccdc91-67f2-4466-89a8-3fd749c3a538",
   "metadata": {},
   "outputs": [],
   "source": [
    "MAPI_KEY = 'P5KlMfFhCfKvXJBjNRq'\n",
    "mpr = MPRester(MAPI_KEY)"
   ]
  },
  {
   "cell_type": "code",
   "execution_count": 42,
   "id": "2dcd4ab9-539a-4bcb-8e73-d399f681d562",
   "metadata": {},
   "outputs": [
    {
     "data": {
      "text/plain": [
       "array(['MnO2', 'CoP2O7', 'VS2', 'CrN2', 'MnO2', 'VS2', 'CrO2', 'NiO2',\n",
       "       'CrO2', 'FeO2', 'CoO2', 'CrO3', 'V(NF3)2', 'TiAgF6', 'MnPCO7',\n",
       "       'MnO2', 'Ni3P4O15', 'Fe4P9O32', 'Fe3(PO4)4', 'CoO2', 'CoPO4',\n",
       "       'CoPCO7', 'V2O5', 'Mn15O32', 'Cr2(PO4)3', 'NiPCO7', 'MnPO4', 'VO2',\n",
       "       'BiF6', 'LiSbF6', 'SbF6', 'VF3', 'Mn(SiO3)2', 'FePCO7',\n",
       "       'Li3Fe2P2(CO7)2', 'Fe(SiO3)2', 'CuCSO7', 'MnF3', 'Fe7(PO4)8',\n",
       "       'FeCSO7', 'SbO3', 'MnO2', 'NbO3', 'Co3P4O15', 'Fe3P4O15', 'K2CrF6',\n",
       "       'NbO2', 'Cr4P9O32', 'CoO2', 'Cr2(PO4)3', 'FeO2', 'CrS2', 'FePO4',\n",
       "       'Cr(SiO3)2', 'CoO3', 'LiFe(Si2O5)3', 'TiS2', 'CrP2O7', 'FePO4',\n",
       "       'CuO', 'TiO2', 'CuO2', 'TiO2', 'CrO2', 'FePO4', 'MnO2', 'NiO2',\n",
       "       'NiO2', 'V2O5', 'Fe2(PO4)3', 'V2(PO4)3', 'CuO2', 'CuPO4', 'CuO',\n",
       "       'NiPO4', 'CoPO4', 'V3O7', 'TiS2', 'VF4', 'VPO5', 'MnPO4F',\n",
       "       'MnP2O7', 'Mn(PO3)5', 'V2O5', 'CoPO4', 'Ti2(PO4)3', 'CoPO4',\n",
       "       'Mn3(PO4)4', 'CuO2', 'V3O8', 'VPCO7', 'GePCO7', 'Fe2P(CO4)4',\n",
       "       'CrPCO7', 'MnCSO7', 'Li3Mn2P2(CO7)2', 'Li3Mn2P2(CO7)2', 'MnAsCO7',\n",
       "       'SiSbCO7', 'VAsCO7', 'VSiCO7', 'CrAsCO7', 'FeAsCO7', 'CoAsCO7',\n",
       "       'VS2', 'CrO2', 'CrF6', 'FeO2', 'MnO2', 'CoO2', 'VO2', 'FeO2',\n",
       "       'NiO2', 'MoO2'], dtype=object)"
      ]
     },
     "execution_count": 42,
     "metadata": {},
     "output_type": "execute_result"
    }
   ],
   "source": [
    "formula = Df.Formula.values\n",
    "formula"
   ]
  },
  {
   "cell_type": "code",
   "execution_count": 43,
   "id": "06a5a894-17e2-420a-a9cc-b29515253668",
   "metadata": {},
   "outputs": [
    {
     "data": {
      "text/plain": [
       "numpy.ndarray"
      ]
     },
     "execution_count": 43,
     "metadata": {},
     "output_type": "execute_result"
    }
   ],
   "source": [
    "type(formula)"
   ]
  },
  {
   "cell_type": "code",
   "execution_count": 32,
   "id": "7abf1816-2b9f-44cf-9e8b-a047b1656d32",
   "metadata": {},
   "outputs": [
    {
     "data": {
      "text/plain": [
       "'CoP2O7'"
      ]
     },
     "execution_count": 32,
     "metadata": {},
     "output_type": "execute_result"
    }
   ],
   "source": [
    "formula[1]"
   ]
  },
  {
   "cell_type": "code",
   "execution_count": null,
   "id": "75b417f2-62e3-4ec1-9ea5-2aa3aeef729e",
   "metadata": {},
   "outputs": [],
   "source": []
  },
  {
   "cell_type": "code",
   "execution_count": 35,
   "id": "15b586e2-8e2e-4a32-920e-cc6dea34fe18",
   "metadata": {},
   "outputs": [
    {
     "ename": "AttributeError",
     "evalue": "'MPRester' object has no attribute 'get_bandstructure'",
     "output_type": "error",
     "traceback": [
      "\u001b[0;31m---------------------------------------------------------------------------\u001b[0m",
      "\u001b[0;31mAttributeError\u001b[0m                            Traceback (most recent call last)",
      "\u001b[0;32m/tmp/ipykernel_6408/3916918531.py\u001b[0m in \u001b[0;36m<module>\u001b[0;34m\u001b[0m\n\u001b[1;32m      3\u001b[0m     \u001b[0;32mfor\u001b[0m \u001b[0mi\u001b[0m \u001b[0;32min\u001b[0m \u001b[0mrange\u001b[0m\u001b[0;34m(\u001b[0m\u001b[0mlen\u001b[0m\u001b[0;34m(\u001b[0m\u001b[0mformula\u001b[0m\u001b[0;34m)\u001b[0m\u001b[0;34m)\u001b[0m\u001b[0;34m:\u001b[0m\u001b[0;34m\u001b[0m\u001b[0;34m\u001b[0m\u001b[0m\n\u001b[1;32m      4\u001b[0m         \u001b[0;31m#print(\"\"%s\"\".format(formulas))\u001b[0m\u001b[0;34m\u001b[0m\u001b[0;34m\u001b[0m\u001b[0;34m\u001b[0m\u001b[0m\n\u001b[0;32m----> 5\u001b[0;31m         \u001b[0mdt\u001b[0m \u001b[0;34m=\u001b[0m \u001b[0mdata\u001b[0m\u001b[0;34m.\u001b[0m\u001b[0mget_bandstructure\u001b[0m\u001b[0;34m(\u001b[0m\u001b[0;34m\"Si\"\u001b[0m\u001b[0;34m)\u001b[0m\u001b[0;34m\u001b[0m\u001b[0;34m\u001b[0m\u001b[0m\n\u001b[0m\u001b[1;32m      6\u001b[0m         \u001b[0;31m#print(formula[i])\u001b[0m\u001b[0;34m\u001b[0m\u001b[0;34m\u001b[0m\u001b[0;34m\u001b[0m\u001b[0m\n\u001b[1;32m      7\u001b[0m         \u001b[0mprint\u001b[0m\u001b[0;34m(\u001b[0m\u001b[0mdt\u001b[0m\u001b[0;34m)\u001b[0m\u001b[0;34m\u001b[0m\u001b[0;34m\u001b[0m\u001b[0m\n",
      "\u001b[0;31mAttributeError\u001b[0m: 'MPRester' object has no attribute 'get_bandstructure'"
     ]
    }
   ],
   "source": [
    "with mpr as data:\n",
    "    i = 0\n",
    "    for i in range(len(formula)):\n",
    "        #print(\"\"%s\"\".format(formulas))\n",
    "        dt = data.get_bandstructure(\"Si\")\n",
    "        #print(formula[i])\n",
    "        print(dt)\n",
    "        #band_gap = dt.get_band_gap()\n",
    "        #print(f\"Band Gap: {band_gap}\")"
   ]
  },
  {
   "cell_type": "code",
   "execution_count": null,
   "id": "8f6a150d-e5a7-442c-9d91-926fa3514bf7",
   "metadata": {},
   "outputs": [],
   "source": []
  },
  {
   "cell_type": "code",
   "execution_count": 55,
   "id": "a5ad6fcb-b431-4451-b156-6a1647460d33",
   "metadata": {},
   "outputs": [
    {
     "data": {
      "text/plain": [
       "[]"
      ]
     },
     "execution_count": 55,
     "metadata": {},
     "output_type": "execute_result"
    }
   ],
   "source": [
    "band"
   ]
  },
  {
   "cell_type": "code",
   "execution_count": null,
   "id": "c2f7dae7-beb3-4dc4-ba04-4c0593387123",
   "metadata": {},
   "outputs": [],
   "source": [
    "#since we're using 3 features\n",
    "fig = plt.figure(figsize=(10, 10))\n",
    "ax = Axes3D(fig)\n",
    "\n",
    "#kplot = plt.axes(projection='3d')\n",
    "\n",
    "xline = np.linspace(0, 1, 1000)\n",
    "Yline = np.linspace(0, 1, 1000)\n",
    "Zline = np.linspace(0, 1, 1000)\n",
    "\n",
    "kplot.plot3D(xline,Yline,Zline)\n",
    "\n",
    "ax.scatter(cl0['Grav. Capacity'],  cl0['Grav. Energy'], cl0['Voltage'],label = 'Cluster 0')\n",
    "ax.scatter(cl1['Grav. Capacity'],  cl1['Grav. Energy'], cl1['Voltage'],label = 'Cluster 1')\n",
    "#ax.scatter(cl2['Grav. Capacity'],  cl2['Grav. Energy'], cl2['Voltage'],label = 'Cluster 2')\n",
    "#kplot.scatter(cl3['Grav. Capacity'],  cl3['Grav. Energy'], label = 'Cluster 3')\n",
    "#kplot.scatter(cl4['Grav. Capacity'],  cl4['Grav. Energy'], label = 'Cluster 4')\n",
    "\n",
    "ax.set_xlabel('Grav. Capacity')\n",
    "ax.set_ylabel('y-axis')\n",
    "ax.set_zlabel('z-axis')\n",
    "\n",
    "plt.show()"
   ]
  },
  {
   "cell_type": "code",
   "execution_count": null,
   "id": "55fa06bd-a775-4e48-9e2d-e17b9a6cff7c",
   "metadata": {},
   "outputs": [],
   "source": []
  },
  {
   "cell_type": "code",
   "execution_count": 60,
   "id": "d8360387-706e-4f2b-829f-46dc19660f87",
   "metadata": {},
   "outputs": [
    {
     "name": "stdout",
     "output_type": "stream",
     "text": [
      "<pymatgen.electronic_structure.bandstructure.BandStructureSymmLine object at 0x7f6a5bd17d90>\n"
     ]
    }
   ],
   "source": [
    "with mpr as a:\n",
    "    print(a.get_bandstructure_by_material_id(\"mp-3748\"))\n",
    "bs = mpr.get_bandstructure_by_material_id(\"mp-3748\")"
   ]
  },
  {
   "cell_type": "code",
   "execution_count": 54,
   "id": "9504d6c1-e1c3-43ac-abc2-a9b913a9ab01",
   "metadata": {},
   "outputs": [],
   "source": [
    "from pymatgen.electronic_structure.plotter import BSDOSPlotter"
   ]
  },
  {
   "cell_type": "code",
   "execution_count": 66,
   "id": "705ad554-d0f9-4046-b40d-4b2df1a78e14",
   "metadata": {},
   "outputs": [
    {
     "ename": "TypeError",
     "evalue": "get_plot() missing 1 required positional argument: 'bs'",
     "output_type": "error",
     "traceback": [
      "\u001b[0;31m---------------------------------------------------------------------------\u001b[0m",
      "\u001b[0;31mTypeError\u001b[0m                                 Traceback (most recent call last)",
      "\u001b[0;32m/tmp/ipykernel_6408/1847033148.py\u001b[0m in \u001b[0;36m<module>\u001b[0;34m\u001b[0m\n\u001b[1;32m      1\u001b[0m \u001b[0mplotter\u001b[0m \u001b[0;34m=\u001b[0m \u001b[0mBSDOSPlotter\u001b[0m\u001b[0;34m(\u001b[0m\u001b[0mbs\u001b[0m\u001b[0;34m)\u001b[0m\u001b[0;34m\u001b[0m\u001b[0;34m\u001b[0m\u001b[0m\n\u001b[0;32m----> 2\u001b[0;31m \u001b[0mplotter\u001b[0m\u001b[0;34m.\u001b[0m\u001b[0mget_plot\u001b[0m\u001b[0;34m(\u001b[0m\u001b[0;34m)\u001b[0m\u001b[0;34m.\u001b[0m\u001b[0mshow\u001b[0m\u001b[0;34m(\u001b[0m\u001b[0;34m)\u001b[0m\u001b[0;34m\u001b[0m\u001b[0;34m\u001b[0m\u001b[0m\n\u001b[0m",
      "\u001b[0;31mTypeError\u001b[0m: get_plot() missing 1 required positional argument: 'bs'"
     ]
    }
   ],
   "source": [
    "plotter = BSDOSPlotter(bs)\n",
    "plotter.get_plot().show()"
   ]
  },
  {
   "cell_type": "code",
   "execution_count": 59,
   "id": "ce7332fd-c475-4e2e-a6ec-6f490ce6bbc7",
   "metadata": {},
   "outputs": [
    {
     "data": {
      "text/plain": [
       "{'direct': False,\n",
       " 'energy': 1.8148,\n",
       " 'transition': '(0.591,0.409,0.000)-\\\\Gamma'}"
      ]
     },
     "execution_count": 59,
     "metadata": {},
     "output_type": "execute_result"
    }
   ],
   "source": [
    "bs.get_band_gap()"
   ]
  },
  {
   "cell_type": "code",
   "execution_count": null,
   "id": "274e8ff0-57fe-4b31-940e-362b083cc506",
   "metadata": {},
   "outputs": [],
   "source": []
  },
  {
   "cell_type": "code",
   "execution_count": null,
   "id": "b02ff1e0-9fba-4542-b140-b46788c2b3ce",
   "metadata": {},
   "outputs": [],
   "source": []
  }
 ],
 "metadata": {
  "kernelspec": {
   "display_name": "Python 3 (ipykernel)",
   "language": "python",
   "name": "python3"
  },
  "language_info": {
   "codemirror_mode": {
    "name": "ipython",
    "version": 3
   },
   "file_extension": ".py",
   "mimetype": "text/x-python",
   "name": "python",
   "nbconvert_exporter": "python",
   "pygments_lexer": "ipython3",
   "version": "3.7.15"
  }
 },
 "nbformat": 4,
 "nbformat_minor": 5
}
